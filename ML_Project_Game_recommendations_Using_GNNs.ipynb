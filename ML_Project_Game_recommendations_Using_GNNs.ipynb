{
  "cells": [
    {
      "cell_type": "markdown",
      "metadata": {
        "id": "view-in-github",
        "colab_type": "text"
      },
      "source": [
        "<a href=\"https://colab.research.google.com/github/jhsrojasro/ML-3A-project/blob/main/ML_Project_Game_recommendations_Using_GNNs.ipynb\" target=\"_parent\"><img src=\"https://colab.research.google.com/assets/colab-badge.svg\" alt=\"Open In Colab\"/></a>"
      ]
    },
    {
      "cell_type": "markdown",
      "metadata": {
        "id": "zHwuB3VDFGZl"
      },
      "source": [
        "<center>\n",
        "<h1> Machine Learning and Differentiable Programming Project: Node Embedding based Recommender System </h1>\n",
        "<h3> Jhon Sebastian Rojas Rodriguez </h2>\n",
        "</center>\n"
      ]
    },
    {
      "cell_type": "code",
      "execution_count": null,
      "metadata": {
        "colab": {
          "base_uri": "https://localhost:8080/"
        },
        "id": "7Har4nKHRRNd",
        "outputId": "f9d75365-c8f9-4d17-d90e-5cf68aa26c95"
      },
      "outputs": [
        {
          "name": "stdout",
          "output_type": "stream",
          "text": [
            "Defaulting to user installation because normal site-packages is not writeable\n",
            "Collecting dgl\n",
            "  Downloading dgl-1.1.3-cp310-cp310-manylinux1_x86_64.whl (6.5 MB)\n",
            "\u001b[2K     \u001b[38;2;114;156;31m━━━━━━━━━━━━━━━━━━━━━━━━━━━━━━━━━━━━━━━━\u001b[0m \u001b[32m6.5/6.5 MB\u001b[0m \u001b[31m23.3 MB/s\u001b[0m eta \u001b[36m0:00:00\u001b[0mm eta \u001b[36m0:00:01\u001b[0m[36m0:00:01\u001b[0m\n",
            "\u001b[?25hRequirement already satisfied: numpy>=1.14.0 in /home/pc-techlab-3/.local/lib/python3.10/site-packages (from dgl) (1.23.4)\n",
            "Requirement already satisfied: scipy>=1.1.0 in /home/pc-techlab-3/.local/lib/python3.10/site-packages (from dgl) (1.10.1)\n",
            "Requirement already satisfied: networkx>=2.1 in /home/pc-techlab-3/.local/lib/python3.10/site-packages (from dgl) (3.1)\n",
            "Requirement already satisfied: requests>=2.19.0 in /home/pc-techlab-3/.local/lib/python3.10/site-packages (from dgl) (2.31.0)\n",
            "Requirement already satisfied: tqdm in /home/pc-techlab-3/.local/lib/python3.10/site-packages (from dgl) (4.65.0)\n",
            "Requirement already satisfied: psutil>=5.8.0 in /home/pc-techlab-3/.local/lib/python3.10/site-packages (from dgl) (5.9.5)\n",
            "Requirement already satisfied: charset-normalizer<4,>=2 in /home/pc-techlab-3/.local/lib/python3.10/site-packages (from requests>=2.19.0->dgl) (3.1.0)\n",
            "Requirement already satisfied: idna<4,>=2.5 in /home/pc-techlab-3/.local/lib/python3.10/site-packages (from requests>=2.19.0->dgl) (2.10)\n",
            "Requirement already satisfied: urllib3<3,>=1.21.1 in /home/pc-techlab-3/.local/lib/python3.10/site-packages (from requests>=2.19.0->dgl) (1.26.16)\n",
            "Requirement already satisfied: certifi>=2017.4.17 in /home/pc-techlab-3/.local/lib/python3.10/site-packages (from requests>=2.19.0->dgl) (2022.12.7)\n",
            "Installing collected packages: dgl\n",
            "Successfully installed dgl-1.1.3\n",
            "\n",
            "\u001b[1m[\u001b[0m\u001b[34;49mnotice\u001b[0m\u001b[1;39;49m]\u001b[0m\u001b[39;49m A new release of pip is available: \u001b[0m\u001b[31;49m23.1.2\u001b[0m\u001b[39;49m -> \u001b[0m\u001b[32;49m23.3.2\u001b[0m\n",
            "\u001b[1m[\u001b[0m\u001b[34;49mnotice\u001b[0m\u001b[1;39;49m]\u001b[0m\u001b[39;49m To update, run: \u001b[0m\u001b[32;49mpython3 -m pip install --upgrade pip\u001b[0m\n"
          ]
        }
      ],
      "source": [
        "!pip install dgl"
      ]
    },
    {
      "cell_type": "code",
      "execution_count": null,
      "metadata": {
        "id": "JlV2SgHRUDce"
      },
      "outputs": [],
      "source": [
        "import pandas as pd\n",
        "import numpy as np\n",
        "from tqdm.notebook import tqdm\n",
        "import pickle\n",
        "import itertools\n",
        "import torch\n",
        "import torch as T\n",
        "import torch.nn as nn\n",
        "import torch.nn.functional as F\n",
        "import scipy.sparse as sp\n",
        "import os\n",
        "import matplotlib.pyplot as plt\n",
        "os.environ[\"DGLBACKEND\"] = \"pytorch\"\n",
        "import dgl\n",
        "import dgl.data"
      ]
    },
    {
      "cell_type": "code",
      "execution_count": null,
      "metadata": {
        "colab": {
          "base_uri": "https://localhost:8080/"
        },
        "id": "IzptB6kkXVZT",
        "outputId": "7c61fbfd-72e2-4178-85a4-1f6839b94f84"
      },
      "outputs": [
        {
          "name": "stdout",
          "output_type": "stream",
          "text": [
            "Drive already mounted at /content/drive; to attempt to forcibly remount, call drive.mount(\"/content/drive\", force_remount=True).\n"
          ]
        }
      ],
      "source": [
        "from google.colab import drive\n",
        "drive.mount('/content/drive')"
      ]
    },
    {
      "cell_type": "code",
      "execution_count": null,
      "metadata": {
        "id": "l_VQYRhYYFGh"
      },
      "outputs": [],
      "source": [
        "workdir = '/home/pc-techlab-3/Documents/ml_rojas/'"
      ]
    },
    {
      "cell_type": "markdown",
      "metadata": {
        "id": "spfAKLixavg9"
      },
      "source": [
        "# Data Preprocesing"
      ]
    },
    {
      "cell_type": "code",
      "execution_count": null,
      "metadata": {
        "colab": {
          "base_uri": "https://localhost:8080/",
          "height": 223
        },
        "id": "oxAywDotVS6G",
        "outputId": "70e25afd-490d-4a31-d859-423d697dd14c"
      },
      "outputs": [
        {
          "name": "stdout",
          "output_type": "stream",
          "text": [
            "Number of users:  13786778\n"
          ]
        },
        {
          "data": {
            "text/html": [
              "<div>\n",
              "<style scoped>\n",
              "    .dataframe tbody tr th:only-of-type {\n",
              "        vertical-align: middle;\n",
              "    }\n",
              "\n",
              "    .dataframe tbody tr th {\n",
              "        vertical-align: top;\n",
              "    }\n",
              "\n",
              "    .dataframe thead th {\n",
              "        text-align: right;\n",
              "    }\n",
              "</style>\n",
              "<table border=\"1\" class=\"dataframe\">\n",
              "  <thead>\n",
              "    <tr style=\"text-align: right;\">\n",
              "      <th></th>\n",
              "      <th>user_id</th>\n",
              "      <th>products</th>\n",
              "      <th>reviews</th>\n",
              "    </tr>\n",
              "  </thead>\n",
              "  <tbody>\n",
              "    <tr>\n",
              "      <th>0</th>\n",
              "      <td>7090995</td>\n",
              "      <td>359</td>\n",
              "      <td>0</td>\n",
              "    </tr>\n",
              "    <tr>\n",
              "      <th>1</th>\n",
              "      <td>13511788</td>\n",
              "      <td>156</td>\n",
              "      <td>1</td>\n",
              "    </tr>\n",
              "    <tr>\n",
              "      <th>2</th>\n",
              "      <td>8444727</td>\n",
              "      <td>329</td>\n",
              "      <td>4</td>\n",
              "    </tr>\n",
              "    <tr>\n",
              "      <th>3</th>\n",
              "      <td>4632233</td>\n",
              "      <td>176</td>\n",
              "      <td>3</td>\n",
              "    </tr>\n",
              "    <tr>\n",
              "      <th>4</th>\n",
              "      <td>4968781</td>\n",
              "      <td>98</td>\n",
              "      <td>2</td>\n",
              "    </tr>\n",
              "  </tbody>\n",
              "</table>\n",
              "</div>"
            ],
            "text/plain": [
              "    user_id  products  reviews\n",
              "0   7090995       359        0\n",
              "1  13511788       156        1\n",
              "2   8444727       329        4\n",
              "3   4632233       176        3\n",
              "4   4968781        98        2"
            ]
          },
          "execution_count": 4,
          "metadata": {},
          "output_type": "execute_result"
        }
      ],
      "source": [
        "users_df = pd.read_csv(workdir+'users.csv')\n",
        "# users_df = users_df[ users_df['user_id'].isin( pd.unique(recommendations_df['user_id']) ) ]\n",
        "# users_df = users_df.drop(labels=[\"reviews\"], axis=1)\n",
        "n_users = users_df.shape[0]\n",
        "print(\"Number of users: \", n_users)\n",
        "users_df.head()"
      ]
    },
    {
      "cell_type": "code",
      "execution_count": null,
      "metadata": {
        "colab": {
          "base_uri": "https://localhost:8080/",
          "height": 255
        },
        "id": "B89t6IjrV6Ne",
        "outputId": "6a05622e-12ff-4eb1-8c62-46ec0ec63a8c"
      },
      "outputs": [
        {
          "name": "stdout",
          "output_type": "stream",
          "text": [
            "Number of games:  50872\n"
          ]
        },
        {
          "data": {
            "text/html": [
              "<div>\n",
              "<style scoped>\n",
              "    .dataframe tbody tr th:only-of-type {\n",
              "        vertical-align: middle;\n",
              "    }\n",
              "\n",
              "    .dataframe tbody tr th {\n",
              "        vertical-align: top;\n",
              "    }\n",
              "\n",
              "    .dataframe thead th {\n",
              "        text-align: right;\n",
              "    }\n",
              "</style>\n",
              "<table border=\"1\" class=\"dataframe\">\n",
              "  <thead>\n",
              "    <tr style=\"text-align: right;\">\n",
              "      <th></th>\n",
              "      <th>node_index</th>\n",
              "      <th>title</th>\n",
              "    </tr>\n",
              "    <tr>\n",
              "      <th>app_id</th>\n",
              "      <th></th>\n",
              "      <th></th>\n",
              "    </tr>\n",
              "  </thead>\n",
              "  <tbody>\n",
              "    <tr>\n",
              "      <th>13500</th>\n",
              "      <td>13786778</td>\n",
              "      <td>Prince of Persia: Warrior Within™</td>\n",
              "    </tr>\n",
              "    <tr>\n",
              "      <th>22364</th>\n",
              "      <td>13786779</td>\n",
              "      <td>BRINK: Agents of Change</td>\n",
              "    </tr>\n",
              "    <tr>\n",
              "      <th>113020</th>\n",
              "      <td>13786780</td>\n",
              "      <td>Monaco: What's Yours Is Mine</td>\n",
              "    </tr>\n",
              "    <tr>\n",
              "      <th>226560</th>\n",
              "      <td>13786781</td>\n",
              "      <td>Escape Dead Island</td>\n",
              "    </tr>\n",
              "    <tr>\n",
              "      <th>249050</th>\n",
              "      <td>13786782</td>\n",
              "      <td>Dungeon of the ENDLESS™</td>\n",
              "    </tr>\n",
              "  </tbody>\n",
              "</table>\n",
              "</div>"
            ],
            "text/plain": [
              "        node_index                              title\n",
              "app_id                                               \n",
              "13500     13786778  Prince of Persia: Warrior Within™\n",
              "22364     13786779            BRINK: Agents of Change\n",
              "113020    13786780       Monaco: What's Yours Is Mine\n",
              "226560    13786781                 Escape Dead Island\n",
              "249050    13786782            Dungeon of the ENDLESS™"
            ]
          },
          "execution_count": 5,
          "metadata": {},
          "output_type": "execute_result"
        }
      ],
      "source": [
        "games_df = pd.read_csv(workdir+'games.csv')\n",
        "# games_df = games_df.sort_values(by=['app_id'])\n",
        "# games_df = games_df[ games_df['app_id'].isin( pd.unique(recommendations_df['app_id']) ) ]\n",
        "games_df = games_df[[\"app_id\", \"title\"]]\n",
        "games_df = games_df.reset_index()\n",
        "games_df.index = games_df['app_id']\n",
        "games_df = games_df.drop(columns=['app_id'])\n",
        "games_df = games_df.rename(columns={\"index\":\"node_index\"})\n",
        "games_df['node_index'] = games_df['node_index'] + n_users\n",
        "n_games = games_df.shape[0]\n",
        "print(\"Number of games: \", n_games)\n",
        "node_ind_dict = games_df['node_index'].to_dict()\n",
        "games_df.head()"
      ]
    },
    {
      "cell_type": "code",
      "execution_count": null,
      "metadata": {
        "colab": {
          "base_uri": "https://localhost:8080/",
          "height": 206
        },
        "id": "xXXLovqxWAfk",
        "outputId": "a16042e0-b759-4794-d89e-60f106dc41fd"
      },
      "outputs": [
        {
          "data": {
            "text/html": [
              "<div>\n",
              "<style scoped>\n",
              "    .dataframe tbody tr th:only-of-type {\n",
              "        vertical-align: middle;\n",
              "    }\n",
              "\n",
              "    .dataframe tbody tr th {\n",
              "        vertical-align: top;\n",
              "    }\n",
              "\n",
              "    .dataframe thead th {\n",
              "        text-align: right;\n",
              "    }\n",
              "</style>\n",
              "<table border=\"1\" class=\"dataframe\">\n",
              "  <thead>\n",
              "    <tr style=\"text-align: right;\">\n",
              "      <th></th>\n",
              "      <th>app_id</th>\n",
              "      <th>user_id</th>\n",
              "      <th>is_recommended</th>\n",
              "    </tr>\n",
              "  </thead>\n",
              "  <tbody>\n",
              "    <tr>\n",
              "      <th>0</th>\n",
              "      <td>13835022</td>\n",
              "      <td>49625</td>\n",
              "      <td>1</td>\n",
              "    </tr>\n",
              "    <tr>\n",
              "      <th>1</th>\n",
              "      <td>13800690</td>\n",
              "      <td>2482</td>\n",
              "      <td>-1</td>\n",
              "    </tr>\n",
              "    <tr>\n",
              "      <th>2</th>\n",
              "      <td>13800051</td>\n",
              "      <td>243409</td>\n",
              "      <td>1</td>\n",
              "    </tr>\n",
              "    <tr>\n",
              "      <th>3</th>\n",
              "      <td>13801114</td>\n",
              "      <td>248701</td>\n",
              "      <td>1</td>\n",
              "    </tr>\n",
              "    <tr>\n",
              "      <th>4</th>\n",
              "      <td>13834668</td>\n",
              "      <td>22902</td>\n",
              "      <td>1</td>\n",
              "    </tr>\n",
              "  </tbody>\n",
              "</table>\n",
              "</div>"
            ],
            "text/plain": [
              "     app_id  user_id  is_recommended\n",
              "0  13835022    49625               1\n",
              "1  13800690     2482              -1\n",
              "2  13800051   243409               1\n",
              "3  13801114   248701               1\n",
              "4  13834668    22902               1"
            ]
          },
          "execution_count": 6,
          "metadata": {},
          "output_type": "execute_result"
        }
      ],
      "source": [
        "recommendations_df = pd.read_csv(workdir+'recommendations.csv')\n",
        "# recommendations_df = recommendations_df.sort_values(by=['user_id']).head(N_TRANSACTIONS)\n",
        "recommendations_df = recommendations_df[[\"app_id\", \"user_id\", \"is_recommended\"]]\n",
        "recommendations_df['is_recommended'] = recommendations_df['is_recommended'].map({True : 1, False : -1})\n",
        "recommendations_df['app_id'] = recommendations_df['app_id'].map(node_ind_dict)\n",
        "recommendations_df.head()"
      ]
    },
    {
      "cell_type": "markdown",
      "metadata": {
        "id": "Wyl0EYsnQtzN"
      },
      "source": [
        "# Dataset Creation"
      ]
    },
    {
      "cell_type": "code",
      "execution_count": null,
      "metadata": {
        "colab": {
          "base_uri": "https://localhost:8080/"
        },
        "id": "4T082zPpphUz",
        "outputId": "23fa609e-3cfa-4ddf-ad23-709f07bdf5f6"
      },
      "outputs": [
        {
          "data": {
            "text/plain": [
              "27573556"
            ]
          },
          "execution_count": 7,
          "metadata": {},
          "output_type": "execute_result"
        }
      ],
      "source": [
        "n_users = users_df.shape[0]\n",
        "n_games = users_df.shape[0]\n",
        "n_nodes =  n_games + n_users\n",
        "n_nodes"
      ]
    },
    {
      "cell_type": "code",
      "execution_count": null,
      "metadata": {
        "id": "nL1zvkI0RhCf"
      },
      "outputs": [],
      "source": [
        "from dgl.data import DGLDataset\n",
        "\n",
        "class SteamGameRatingsDataset(DGLDataset):\n",
        "  def __init(self):\n",
        "    super().__init__(name=\"steam_game_ratings\")\n",
        "\n",
        "  def process(self):\n",
        "    edges_features = T.from_numpy(recommendations_df['is_recommended'].to_numpy())\n",
        "\n",
        "    edges_src = T.from_numpy(recommendations_df['user_id'].to_numpy())\n",
        "    edges_dst = T.from_numpy(recommendations_df['app_id'].to_numpy())\n",
        "\n",
        "    self.graph = dgl.graph(\n",
        "        (edges_src, edges_dst), num_nodes=n_nodes\n",
        "    )\n",
        "\n",
        "    self.graph.edata[\"weight\"] = edges_features\n",
        "\n",
        "  def __getitem__(self, i):\n",
        "    return self.graph\n",
        "\n",
        "  def __len__(self):\n",
        "    return 1"
      ]
    },
    {
      "cell_type": "code",
      "execution_count": null,
      "metadata": {
        "colab": {
          "base_uri": "https://localhost:8080/"
        },
        "id": "YRiMUEJpW5NY",
        "outputId": "9acc3c5e-6e90-4860-f71b-547c76de8898"
      },
      "outputs": [
        {
          "name": "stdout",
          "output_type": "stream",
          "text": [
            "Graph(num_nodes=27573556, num_edges=38354101,\n",
            "      ndata_schemes={}\n",
            "      edata_schemes={'weight': Scheme(shape=(), dtype=torch.int64)})\n"
          ]
        }
      ],
      "source": [
        "dataset = SteamGameRatingsDataset(name=\"steam_game_ratings\")\n",
        "g = dataset[0]\n",
        "\n",
        "print(g)"
      ]
    },
    {
      "cell_type": "markdown",
      "metadata": {
        "id": "OQS271thXobE"
      },
      "source": [
        "# Dataset Split"
      ]
    },
    {
      "cell_type": "code",
      "execution_count": null,
      "metadata": {
        "id": "oKTvvMafXvX6"
      },
      "outputs": [],
      "source": [
        "u, v = g.edges()\n",
        "\n",
        "eids = np.arange(g.num_edges())\n",
        "eids = np.random.permutation(eids)\n",
        "test_size = int(len(eids) * 0.1)\n",
        "validation_size = int(len(eids) * 0.1)\n",
        "train_size = g.num_edges() - test_size - validation_size\n",
        "test_pos_u, test_pos_v = u[eids[:test_size]], v[eids[:test_size]]\n",
        "validation_pos_u, validation_pos_v = u[eids[test_size : test_size + validation_size]], v[eids[test_size : test_size + validation_size]]\n",
        "train_pos_u, train_pos_v = u[eids[test_size + validation_size:]], v[eids[test_size+validation_size:]]"
      ]
    },
    {
      "cell_type": "code",
      "execution_count": null,
      "metadata": {
        "id": "8ds9cDvLsMLF"
      },
      "outputs": [],
      "source": [
        "neg_u , neg_v = np.random.choice(n_users , g.num_edges()) , np.random.choice(n_games , g.num_edges()) + n_users\n",
        "contained_in_g = g.has_edges_between(neg_u, neg_v)\n",
        "while contained_in_g.any().item():\n",
        "  trues_indexes = T.where(contained_in_g == True)[0]\n",
        "  n_trues = trues_indexes.shape[0]\n",
        "  rand_u, rand_v = np.random.choice(n_users , n_trues) , np.random.choice(n_games , n_trues) + n_users\n",
        "  neg_u[trues_indexes] , neg_v[trues_indexes] = rand_u, rand_v\n",
        "  contained_in_g = g.has_edges_between(neg_u, neg_v)"
      ]
    },
    {
      "cell_type": "code",
      "execution_count": null,
      "metadata": {
        "id": "DLyGONKxv3qd"
      },
      "outputs": [],
      "source": [
        "neg_eids = np.random.choice(len(neg_u), g.num_edges())\n",
        "\n",
        "test_neg_u, test_neg_v = (\n",
        "    neg_u[neg_eids[:test_size]],\n",
        "    neg_v[neg_eids[:test_size]],\n",
        ")\n",
        "\n",
        "validation_neg_u, validation_neg_v = (\n",
        "    neg_u[neg_eids[test_size : test_size+validation_size]],\n",
        "    neg_v[neg_eids[test_size : test_size+validation_size]],\n",
        ")\n",
        "\n",
        "train_neg_u, train_neg_v = (\n",
        "    neg_u[neg_eids[test_size:]],\n",
        "    neg_v[neg_eids[test_size:]],\n",
        ")"
      ]
    },
    {
      "cell_type": "code",
      "execution_count": null,
      "metadata": {
        "id": "bq8kHgvLkWRD"
      },
      "outputs": [],
      "source": [
        "train_g = dgl.remove_edges(g, eids[:test_size + validation_size])\n",
        "\n",
        "validation_g = dgl.remove_edges(g, eids[:test_size])\n",
        "validation_g = dgl.remove_edges(g, np.concatenate((eids[:test_size], eids[test_size + validation_size:])))"
      ]
    },
    {
      "cell_type": "code",
      "execution_count": null,
      "metadata": {
        "id": "mqCPl7wD6buc"
      },
      "outputs": [],
      "source": [
        "train_pos_g = dgl.graph((train_pos_u, train_pos_v), num_nodes=g.number_of_nodes())\n",
        "train_neg_g = dgl.graph((train_neg_u, train_neg_v), num_nodes=g.number_of_nodes())\n",
        "\n",
        "validation_pos_g = dgl.graph((validation_pos_u, validation_pos_v), num_nodes=g.number_of_nodes())\n",
        "validation_neg_g = dgl.graph((validation_pos_u, validation_pos_v), num_nodes=g.number_of_nodes())\n",
        "\n",
        "test_pos_g = dgl.graph((test_pos_u, test_pos_v), num_nodes=g.number_of_nodes())\n",
        "test_neg_g = dgl.graph((test_neg_u, test_neg_v), num_nodes=g.number_of_nodes())"
      ]
    },
    {
      "cell_type": "code",
      "execution_count": null,
      "metadata": {
        "id": "_SJnGpISR0ik"
      },
      "outputs": [],
      "source": [
        "pickle.dump(train_g, open(workdir+'train_graph.pickle', 'wb'))\n",
        "pickle.dump(train_pos_g, open(workdir+'train_pos_g.pickle', 'wb'))\n",
        "pickle.dump(train_neg_g, open(workdir+'train_neg_g.pickle', 'wb'))\n",
        "pickle.dump(validation_pos_g, open(workdir+'validation_pos_g.pickle', 'wb'))\n",
        "pickle.dump(validation_neg_g, open(workdir+'validation_neg_g.pickle', 'wb'))\n",
        "pickle.dump(test_pos_g, open(workdir+'test_pos_g.pickle', 'wb'))\n",
        "pickle.dump(test_neg_g, open(workdir+'test_neg_g.pickle', 'wb'))"
      ]
    },
    {
      "cell_type": "markdown",
      "metadata": {
        "id": "xtFcJ8ac5W0s"
      },
      "source": [
        "# Create Model\n",
        "\n",
        "\n"
      ]
    },
    {
      "cell_type": "code",
      "execution_count": null,
      "metadata": {
        "id": "gEz_WKva5bZ4"
      },
      "outputs": [],
      "source": [
        "from dgl.nn import SAGEConv\n",
        "\n",
        "class GraphSAGE(nn.Module):\n",
        "    def __init__(self, in_feats, h_feats):\n",
        "        super(GraphSAGE, self).__init__()\n",
        "        self.conv1 = SAGEConv(in_feats, h_feats, 'mean')\n",
        "        self.conv2 = SAGEConv(h_feats, h_feats, 'mean')\n",
        "\n",
        "    def forward(self, g, in_feat):\n",
        "        h = self.conv1(g, in_feat)\n",
        "        h = F.relu(h)\n",
        "        h = self.conv2(g, h)\n",
        "        return h"
      ]
    },
    {
      "cell_type": "code",
      "execution_count": null,
      "metadata": {
        "id": "b70bGOPn6nkA"
      },
      "outputs": [],
      "source": [
        "import dgl.function as fn\n",
        "\n",
        "class DotPredictor(nn.Module):\n",
        "    def forward(self, g, h):\n",
        "        with g.local_scope():\n",
        "            g.ndata['h'] = h\n",
        "            # Compute a new edge feature named 'score' by a dot-product between the\n",
        "            # source node feature 'h' and destination node feature 'h'.\n",
        "            g.apply_edges(fn.u_dot_v('h', 'h', 'score'))\n",
        "            # u_dot_v returns a 1-element vector for each edge so you need to squeeze it.\n",
        "            return g.edata['score'][:, 0]"
      ]
    },
    {
      "cell_type": "markdown",
      "metadata": {
        "id": "Spf2L-OrYmAI"
      },
      "source": [
        "# Traing GNN"
      ]
    },
    {
      "cell_type": "code",
      "execution_count": null,
      "metadata": {
        "id": "_6IU_VLBbhfM"
      },
      "outputs": [],
      "source": [
        "def compute_loss(pos_score, neg_score):\n",
        "    scores = T.cat([pos_score, neg_score])\n",
        "    labels = T.cat([T.ones(pos_score.shape[0]), T.zeros(neg_score.shape[0])])\n",
        "    return F.binary_cross_entropy_with_logits(scores, labels, reduction='mean')\n",
        "\n",
        "def compute_auc(pos_score, neg_score):\n",
        "    scores = T.cat([pos_score, neg_score]).numpy()\n",
        "    labels = T.cat(\n",
        "        [T.ones(pos_score.shape[0]), T.zeros(neg_score.shape[0])]).numpy()\n",
        "    return roc_auc_score(labels, scores)"
      ]
    },
    {
      "cell_type": "code",
      "execution_count": null,
      "metadata": {
        "id": "5OfO5gNeR96w"
      },
      "outputs": [],
      "source": [
        "train_g = pickle.load(open(workdir+'train_graph.pickle', 'rb'))\n",
        "train_pos_g = pickle.load(open(workdir+'train_pos_g.pickle', 'rb'))\n",
        "train_neg_g = pickle.load(open(workdir+'train_neg_g.pickle', 'rb'))\n",
        "validation_pos_g = pickle.load(open(workdir+'validation_pos_g.pickle', 'rb'))\n",
        "validation_neg_g = pickle.load(open(workdir+'validation_neg_g.pickle', 'rb'))\n",
        "test_pos_g = pickle.load(open(workdir+'test_pos_g.pickle', 'rb'))\n",
        "test_neg_g = pickle.load(open(workdir+'test_neg_g.pickle', 'rb'))"
      ]
    },
    {
      "cell_type": "code",
      "execution_count": null,
      "metadata": {
        "id": "5WvXC6Clllcr"
      },
      "outputs": [],
      "source": [
        "epochs = 100\n",
        "learning_rate = 0.003\n",
        "embeding_size = 16"
      ]
    },
    {
      "cell_type": "code",
      "execution_count": null,
      "metadata": {
        "id": "z-fDx-Or6sjc"
      },
      "outputs": [],
      "source": [
        "model = GraphSAGE(1, embeding_size)\n",
        "# You can replace DotPredictor with MLPPredictor.\n",
        "#pred = MLPPredictor(16)\n",
        "pred = DotPredictor()"
      ]
    },
    {
      "cell_type": "code",
      "execution_count": null,
      "metadata": {
        "colab": {
          "base_uri": "https://localhost:8080/",
          "height": 392,
          "referenced_widgets": [
            "039ebfa688b4431285d6a372a063e1ae"
          ]
        },
        "id": "qGeaArkh6x_z",
        "outputId": "6e84883e-f393-41ed-9fa0-146392ed81e2"
      },
      "outputs": [
        {
          "data": {
            "application/vnd.jupyter.widget-view+json": {
              "model_id": "039ebfa688b4431285d6a372a063e1ae",
              "version_major": 2,
              "version_minor": 0
            },
            "text/plain": [
              "  0%|          | 0/100 [00:00<?, ?it/s]"
            ]
          },
          "metadata": {},
          "output_type": "display_data"
        },
        {
          "name": "stdout",
          "output_type": "stream",
          "text": [
            "In epoch 0, loss: 604483226697728.0, validation loss: 572541689135104.0\n",
            "In epoch 1, loss: 577223136378880.0, validation loss: 543238603669504.0\n",
            "In epoch 2, loss: 551017527640064.0, validation loss: 515331281911808.0\n",
            "In epoch 3, loss: 525825967390720.0, validation loss: 488846164754432.0\n",
            "In epoch 4, loss: 501638523518976.0, validation loss: 463661382500352.0\n",
            "In epoch 5, loss: 478451337265152.0, validation loss: 439700196163584.0\n",
            "In epoch 6, loss: 456253033676800.0, validation loss: 416889658408960.0\n",
            "In epoch 7, loss: 435024386064384.0, validation loss: 395161049759744.0\n",
            "In epoch 8, loss: 414740966801408.0, validation loss: 374454207119360.0\n",
            "In epoch 9, loss: 395377509400576.0, validation loss: 354730609999872.0\n",
            "In epoch 10, loss: 376909284245504.0, validation loss: 335970058633216.0\n",
            "In epoch 11, loss: 359310420869120.0, validation loss: 318157252198400.0\n",
            "In epoch 12, loss: 342552196677632.0, validation loss: 301274675281920.0\n",
            "In epoch 13, loss: 326602768515072.0, validation loss: 285299275988992.0\n",
            "In epoch 14, loss: 311428716167168.0, validation loss: 270200385568768.0\n",
            "In epoch 15, loss: 297254686556160.0, validation loss: 256064389906432.0\n",
            "In epoch 16, loss: 283905693319168.0, validation loss: 242776633507840.0\n",
            "In epoch 17, loss: 271206850756608.0, validation loss: 230218199465984.0\n",
            "In epoch 18, loss: 259128865849344.0, validation loss: 218340098310144.0\n",
            "In epoch 19, loss: 247642529464320.0, validation loss: 207094498197504.0\n",
            "In epoch 20, loss: 236719202893824.0, validation loss: 196437778366464.0\n",
            "In epoch 21, loss: 226331254063104.0, validation loss: 186332777283584.0\n",
            "In epoch 22, loss: 216452829282304.0, validation loss: 176749648281600.0\n",
            "In epoch 23, loss: 207059366707200.0, validation loss: 167664651599872.0\n",
            "In epoch 24, loss: 198127629893632.0, validation loss: 159057939791872.0\n",
            "In epoch 25, loss: 189635103817728.0, validation loss: 150911343132672.0\n",
            "In epoch 26, loss: 181560011653120.0, validation loss: 143206691897344.0\n",
            "In epoch 27, loss: 173881297993728.0, validation loss: 135924398686208.0\n",
            "In epoch 28, loss: 166579031506944.0, validation loss: 129042997051392.0\n",
            "In epoch 29, loss: 159634270715904.0, validation loss: 122539267325952.0\n",
            "In epoch 30, loss: 153029097553920.0, validation loss: 116388907712512.0\n",
            "In epoch 31, loss: 146746315374592.0, validation loss: 110567398309888.0\n",
            "In epoch 32, loss: 140769314734080.0, validation loss: 105051074854912.0\n",
            "In epoch 33, loss: 135082140499968.0, validation loss: 99818286350336.0\n",
            "In epoch 34, loss: 129669508628480.0, validation loss: 94850334588928.0\n",
            "In epoch 35, loss: 124516965548032.0, validation loss: 90131927138304.0\n",
            "In epoch 36, loss: 119610846216192.0, validation loss: 85651017957376.0\n",
            "In epoch 37, loss: 114938282508288.0, validation loss: 81397943369728.0\n",
            "In epoch 38, loss: 110486943170560.0, validation loss: 77364222492672.0\n",
            "In epoch 39, loss: 106245084151808.0, validation loss: 73541693210624.0\n",
            "In epoch 40, loss: 102201498271744.0, validation loss: 69921631371264.0\n",
            "In epoch 41, loss: 98345607495680.0, validation loss: 66494285217792.0\n",
            "In epoch 42, loss: 94667412602880.0, validation loss: 63248812474368.0\n",
            "In epoch 43, loss: 91157493186560.0, validation loss: 60173615890432.0\n",
            "In epoch 44, loss: 87806932156416.0, validation loss: 57256766865408.0\n",
            "In epoch 45, loss: 84607215075328.0, validation loss: 54486718480384.0\n",
            "In epoch 46, loss: 81550230159360.0, validation loss: 51852896894976.0\n",
            "In epoch 47, loss: 78628293443584.0, validation loss: 49346280161280.0\n",
            "In epoch 48, loss: 75834157170688.0, validation loss: 46959603744768.0\n",
            "In epoch 49, loss: 73160993013760.0, validation loss: 44687188557824.0\n",
            "In epoch 50, loss: 70602358521856.0, validation loss: 42524567666688.0\n",
            "In epoch 51, loss: 68152150982656.0, validation loss: 40467861340160.0\n",
            "In epoch 52, loss: 65804624199680.0, validation loss: 38513210818560.0\n",
            "In epoch 53, loss: 63554325577728.0, validation loss: 36656329523200.0\n",
            "In epoch 54, loss: 61396150648832.0, validation loss: 34892272369664.0\n",
            "In epoch 55, loss: 59325338877952.0, validation loss: 33215481905152.0\n",
            "In epoch 56, loss: 57337431719936.0, validation loss: 31619918331904.0\n",
            "In epoch 57, loss: 55431711948800.0, validation loss: 30117589942272.0\n",
            "In epoch 58, loss: 53600583680000.0, validation loss: 28683886657536.0\n",
            "In epoch 59, loss: 51840079101952.0, validation loss: 27311527165952.0\n",
            "In epoch 60, loss: 50146721136640.0, validation loss: 25996210208768.0\n",
            "In epoch 61, loss: 48517317918720.0, validation loss: 24735266111488.0\n",
            "In epoch 62, loss: 46948887298048.0, validation loss: 23527277199360.0\n",
            "In epoch 63, loss: 45438610702336.0, validation loss: 22371538829312.0\n",
            "In epoch 64, loss: 43983841525760.0, validation loss: 21267407175680.0\n",
            "In epoch 65, loss: 42582025437184.0, validation loss: 20213732999168.0\n",
            "In epoch 66, loss: 41230796849152.0, validation loss: 19208576434176.0\n",
            "In epoch 67, loss: 39927916003328.0, validation loss: 18249135685632.0\n",
            "In epoch 68, loss: 38671273164800.0, validation loss: 17331902218240.0\n",
            "In epoch 69, loss: 37458876039168.0, validation loss: 16453078089728.0\n",
            "In epoch 70, loss: 36288812023808.0, validation loss: 15608985944064.0\n",
            "In epoch 71, loss: 35159246110720.0, validation loss: 14796519899136.0\n",
            "In epoch 72, loss: 34068439760896.0, validation loss: 14013427613696.0\n",
            "In epoch 73, loss: 33014761390080.0, validation loss: 13258377396224.0\n",
            "In epoch 74, loss: 31996665397248.0, validation loss: 12530814550016.0\n",
            "In epoch 75, loss: 31012677484544.0, validation loss: 11830609051648.0\n",
            "In epoch 76, loss: 30061390462976.0, validation loss: 11157722103808.0\n",
            "In epoch 77, loss: 29141462155264.0, validation loss: 10511822356480.0\n",
            "In epoch 78, loss: 28251630075904.0, validation loss: 9892108697600.0\n",
            "In epoch 79, loss: 27390696751104.0, validation loss: 9297241047040.0\n",
            "In epoch 80, loss: 26557538107392.0, validation loss: 8725471952896.0\n",
            "In epoch 81, loss: 25751063625728.0, validation loss: 8174886715392.0\n",
            "In epoch 82, loss: 24970260381696.0, validation loss: 7643652947968.0\n",
            "In epoch 83, loss: 24214130130944.0, validation loss: 7130302644224.0\n",
            "In epoch 84, loss: 23481752223744.0, validation loss: 6633876357120.0\n",
            "In epoch 85, loss: 22772229079040.0, validation loss: 6153947840512.0\n",
            "In epoch 86, loss: 22084726030336.0, validation loss: 5690485637120.0\n",
            "In epoch 87, loss: 21418433576960.0, validation loss: 5243696316416.0\n",
            "In epoch 88, loss: 20772579966976.0, validation loss: 4813737164800.0\n",
            "In epoch 89, loss: 20146429100032.0, validation loss: 4400592977920.0\n",
            "In epoch 90, loss: 19539280527360.0, validation loss: 4003950231552.0\n",
            "In epoch 91, loss: 18950475743232.0, validation loss: 3623278608384.0\n",
            "In epoch 92, loss: 18379383504896.0, validation loss: 3257888145408.0\n",
            "In epoch 93, loss: 17825412415488.0, validation loss: 2907240398848.0\n",
            "In epoch 94, loss: 17287980515328.0, validation loss: 2570870325248.0\n",
            "In epoch 95, loss: 16766576099328.0, validation loss: 2248949628928.0\n",
            "In epoch 96, loss: 16260749328384.0, validation loss: 1942647865344.0\n",
            "In epoch 97, loss: 15770139492352.0, validation loss: 1654725672960.0\n",
            "In epoch 98, loss: 15294425726976.0, validation loss: 1390637744128.0\n"
          ]
        }
      ],
      "source": [
        "# ----------- 3. set up loss and optimizer -------------- #\n",
        "# in this case, loss will in training loop\n",
        "optimizer = torch.optim.Adam(itertools.chain(model.parameters(), pred.parameters()), lr=learning_rate)\n",
        "\n",
        "# ----------- 4. training -------------------------------- #\n",
        "all_logits = []\n",
        "train_losses = []\n",
        "validation_losses = []\n",
        "for e in tqdm(range(epochs)):\n",
        "    # forward\n",
        "    h = model(train_g, train_g.nodes().view(-1,1).float())\n",
        "\n",
        "    # Validation\n",
        "    validation_pos_score = pred(validation_pos_g, h)\n",
        "    validation_neg_score = pred(validation_neg_g, h)\n",
        "    validation_loss = compute_loss(validation_pos_score, validation_neg_score)\n",
        "    validation_losses.append(validation_loss.item())\n",
        "\n",
        "\n",
        "    pos_score = pred(train_pos_g, h)\n",
        "    neg_score = pred(train_neg_g, h)\n",
        "    loss = compute_loss(pos_score, neg_score)\n",
        "    train_losses.append(loss.item())\n",
        "\n",
        "    # backward\n",
        "    optimizer.zero_grad()\n",
        "    loss.backward()\n",
        "    optimizer.step()\n",
        "\n",
        "    # if e % 5 == 0:\n",
        "    print('In epoch {}, loss: {}, validation loss: {}'.format(e, loss, validation_loss))\n",
        "\n",
        "\n",
        "\n",
        "# ----------- 5. check results ------------------------ #\n",
        "from sklearn.metrics import roc_auc_score\n",
        "with torch.no_grad():\n",
        "    pos_score = pred(test_pos_g, h)\n",
        "    neg_score = pred(test_neg_g, h)\n",
        "    print('AUC', compute_auc(pos_score, neg_score))\n",
        "\n",
        "\n",
        "# Thumbnail credits: Link Prediction with Neo4j, Mark Needham\n",
        "# sphinx_gallery_thumbnail_path = '_static/blitz_4_link_predict.png'"
      ]
    },
    {
      "cell_type": "code",
      "execution_count": null,
      "metadata": {
        "id": "PxBnVbGCllct",
        "outputId": "ad970898-48ef-46ee-b22b-c4a9202a3f03"
      },
      "outputs": [
        {
          "data": {
            "image/png": "[encoded data removed]",
            "text/plain": [
              "<Figure size 640x480 with 1 Axes>"
            ]
          },
          "metadata": {},
          "output_type": "display_data"
        }
      ],
      "source": [
        "plt.plot(np.arange(epochs), train_losses, label='train loss')\n",
        "plt.plot(np.arange(epochs), validation_losses, label='validation loss')\n",
        "plt.title('{} Epochs, {} Embedding size, {} Learning Rate'.format(epochs, embeding_size, learning_rate))\n",
        "plt.xlabel('Epochs')\n",
        "plt.ylabel('Loss')\n",
        "plt.legend()\n",
        "plt.show()"
      ]
    },
    {
      "cell_type": "markdown",
      "metadata": {
        "id": "qICzsM0k07bM"
      },
      "source": [
        "# Use trained model to make recommendations"
      ]
    },
    {
      "cell_type": "code",
      "execution_count": null,
      "metadata": {
        "id": "A9GJ-2Rll8oW"
      },
      "outputs": [],
      "source": []
    },
    {
      "cell_type": "markdown",
      "metadata": {
        "id": "PREOQ4Zrllcu"
      },
      "source": [
        "#"
      ]
    }
  ],
  "metadata": {
    "colab": {
      "provenance": [],
      "include_colab_link": true
    },
    "kernelspec": {
      "display_name": "Python 3 (ipykernel)",
      "language": "python",
      "name": "python3"
    },
    "language_info": {
      "codemirror_mode": {
        "name": "ipython",
        "version": 3
      },
      "file_extension": ".py",
      "mimetype": "text/x-python",
      "name": "python",
      "nbconvert_exporter": "python",
      "pygments_lexer": "ipython3",
      "version": "3.10.12"
    }
  },
  "nbformat": 4,
  "nbformat_minor": 0
}